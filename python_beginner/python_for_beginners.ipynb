{
 "cells": [
  {
   "cell_type": "markdown",
   "metadata": {},
   "source": [
    "# Jupyter Notebook"
   ]
  },
  {
   "cell_type": "markdown",
   "metadata": {},
   "source": [
    "## Why Jupyter Notebook?"
   ]
  },
  {
   "cell_type": "markdown",
   "metadata": {},
   "source": [
    "Jupyter Notebooks keeps a Python kernel (i.e. a _session_) running while you work so you can run code line-by-line or segment-by-segment. "
   ]
  },
  {
   "cell_type": "code",
   "execution_count": 41,
   "metadata": {},
   "outputs": [],
   "source": [
    "# Here's a process that takes a long time\n",
    "import time\n",
    "\n",
    "def long_process():\n",
    "    time.sleep(5)\n",
    "    return 42"
   ]
  },
  {
   "cell_type": "code",
   "execution_count": 42,
   "metadata": {},
   "outputs": [],
   "source": [
    "result = long_process() # Here we invoke the process and wait for it to complete"
   ]
  },
  {
   "cell_type": "code",
   "execution_count": 43,
   "metadata": {},
   "outputs": [
    {
     "data": {
      "text/plain": [
       "42"
      ]
     },
     "execution_count": 43,
     "metadata": {},
     "output_type": "execute_result"
    }
   ],
   "source": [
    "result # Now we can play around with the result without rerunning the process"
   ]
  },
  {
   "cell_type": "markdown",
   "metadata": {},
   "source": [
    "## Interacting with Notebooks"
   ]
  },
  {
   "cell_type": "markdown",
   "metadata": {},
   "source": [
    "#### Navigating and editting cells\n",
    "\n",
    "Click on a cell or press **_ENTER_** to edit a cell.\n",
    "\n",
    "Click else where or press **_ESC_** to exit the cell.\n",
    "\n",
    "Use the **_ARROW KEYS_** to scroll up and down cells.\n",
    "\n",
    "#### Creating a cell\n",
    "\n",
    "Press **_a_** twice to add a cell above the current cell.\n",
    "\n",
    "Press **_b_** twice to add a cell below the current cell.\n",
    "\n",
    "#### Running cells\n",
    "\n",
    "Run a cell by pressing **_CTRL+ENTER_**.\n",
    "\n",
    "Run a cell and move on to the next by pressing **_SHIFT+ENTER_**.\n",
    "\n",
    "#### Deleting a cell\n",
    "\n",
    "Press **_d_** twice to delete a cell."
   ]
  },
  {
   "cell_type": "markdown",
   "metadata": {},
   "source": [
    "# Python for Beginners"
   ]
  },
  {
   "cell_type": "markdown",
   "metadata": {},
   "source": [
    "### Variables"
   ]
  },
  {
   "cell_type": "markdown",
   "metadata": {},
   "source": [
    "#### Assigning Variables\n",
    "\n",
    "Variables are used to store information in _memory_."
   ]
  },
  {
   "cell_type": "code",
   "execution_count": 4,
   "metadata": {},
   "outputs": [
    {
     "name": "stdout",
     "output_type": "stream",
     "text": [
      "1\n",
      "Hello\n"
     ]
    }
   ],
   "source": [
    "a = 1\n",
    "b = \"Hello\"\n",
    "\n",
    "print(a)\n",
    "print(b)"
   ]
  },
  {
   "cell_type": "markdown",
   "metadata": {},
   "source": [
    "#### Booleans\n",
    "\n",
    "Booleans are used to evaluate things as either _true_ or _false_."
   ]
  },
  {
   "cell_type": "code",
   "execution_count": 5,
   "metadata": {},
   "outputs": [
    {
     "name": "stdout",
     "output_type": "stream",
     "text": [
      "True\n",
      "False\n",
      "False\n"
     ]
    }
   ],
   "source": [
    "# You can assign variables to be True or False\n",
    "true = True\n",
    "false = False\n",
    "\n",
    "# You can also compare things that give a True or False result\n",
    "are_they_equal = a == b # Does a equal b?\n",
    "\n",
    "print(true)\n",
    "print(false)\n",
    "print(are_they_equal)"
   ]
  },
  {
   "cell_type": "markdown",
   "metadata": {},
   "source": [
    "#### Integers\n",
    "\n",
    "Used for wherever you use numbers."
   ]
  },
  {
   "cell_type": "code",
   "execution_count": 6,
   "metadata": {},
   "outputs": [
    {
     "name": "stdout",
     "output_type": "stream",
     "text": [
      "123123\n"
     ]
    }
   ],
   "source": [
    "integer = 123123\n",
    "\n",
    "print(integer)"
   ]
  },
  {
   "cell_type": "markdown",
   "metadata": {},
   "source": [
    "#### Floating-Point Numbers\n",
    "\n",
    "Used for wherever you need numbers with decimals. "
   ]
  },
  {
   "cell_type": "code",
   "execution_count": 7,
   "metadata": {},
   "outputs": [
    {
     "name": "stdout",
     "output_type": "stream",
     "text": [
      "0.234242\n",
      "1232.0\n"
     ]
    }
   ],
   "source": [
    "decimal = 0.234242\n",
    "another_decimal = 1232.0\n",
    "\n",
    "print(decimal)\n",
    "print(another_decimal)"
   ]
  },
  {
   "cell_type": "markdown",
   "metadata": {},
   "source": [
    "#### Strings\n",
    "\n",
    "Used for when you need to 'keep track of' a list of characters."
   ]
  },
  {
   "cell_type": "code",
   "execution_count": 8,
   "metadata": {},
   "outputs": [
    {
     "name": "stdout",
     "output_type": "stream",
     "text": [
      "Hello World\n",
      "helloHello World\n"
     ]
    }
   ],
   "source": [
    "a_string = \"Hello World\"\n",
    "another_string = 'hello' + a_string\n",
    "\n",
    "print(a_string)\n",
    "print(another_string)"
   ]
  },
  {
   "cell_type": "markdown",
   "metadata": {},
   "source": [
    "Strings can be _indexed_ starting at 0."
   ]
  },
  {
   "cell_type": "code",
   "execution_count": 9,
   "metadata": {},
   "outputs": [
    {
     "name": "stdout",
     "output_type": "stream",
     "text": [
      "H\n",
      "l\n"
     ]
    }
   ],
   "source": [
    "print(a_string[0])\n",
    "print(another_string[3])"
   ]
  },
  {
   "cell_type": "markdown",
   "metadata": {},
   "source": [
    "#### Lists\n",
    "\n",
    "Used for storing a _list_ of things."
   ]
  },
  {
   "cell_type": "code",
   "execution_count": 10,
   "metadata": {},
   "outputs": [
    {
     "name": "stdout",
     "output_type": "stream",
     "text": [
      "[0, 1, 2, 3, 'four', 'five', 6.0, True]\n"
     ]
    }
   ],
   "source": [
    "ls = [0, 1, 2, 3, \"four\", \"five\", 6.0, True]\n",
    "\n",
    "print(ls)"
   ]
  },
  {
   "cell_type": "markdown",
   "metadata": {},
   "source": [
    "You can accesses an _element_ of a list by using the **[]** notation. In Python, lists are _zero-indexed_, meaning that the first element is stored at the 0th position in the list."
   ]
  },
  {
   "cell_type": "code",
   "execution_count": 11,
   "metadata": {
    "scrolled": true
   },
   "outputs": [
    {
     "name": "stdout",
     "output_type": "stream",
     "text": [
      "0\n",
      "1\n",
      "2\n",
      "3\n",
      "four\n",
      "five\n",
      "6.0\n",
      "True\n",
      "\n",
      "True\n"
     ]
    }
   ],
   "source": [
    "print(ls[0])\n",
    "print(ls[1])\n",
    "print(ls[2])\n",
    "print(ls[3])\n",
    "print(ls[4])\n",
    "print(ls[5])\n",
    "print(ls[6])\n",
    "print(ls[7])\n",
    "print()\n",
    "print(ls[-1]) # Use -1 to get the last element"
   ]
  },
  {
   "cell_type": "markdown",
   "metadata": {},
   "source": [
    "You can _slice_ lists using the **:** notation.\n",
    "\n",
    "Ex. a[2:6] means get all the elements from element at index 2 to the 6th element in the list.\n",
    "\n",
    "a = [0, 1, **2, 3, \"four\", \"five\"**, 6.0, True]"
   ]
  },
  {
   "cell_type": "code",
   "execution_count": 12,
   "metadata": {},
   "outputs": [
    {
     "name": "stdout",
     "output_type": "stream",
     "text": [
      "[2, 3, 'four', 'five']\n"
     ]
    }
   ],
   "source": [
    "print(ls[2:6])"
   ]
  },
  {
   "cell_type": "markdown",
   "metadata": {},
   "source": [
    "You can add elements to the end of the list."
   ]
  },
  {
   "cell_type": "code",
   "execution_count": 13,
   "metadata": {},
   "outputs": [
    {
     "name": "stdout",
     "output_type": "stream",
     "text": [
      "[0, 1, 2, 3, 'four', 'five', 6.0, True, 'a new element']\n"
     ]
    }
   ],
   "source": [
    "ls.append(\"a new element\")\n",
    "\n",
    "print(ls)"
   ]
  },
  {
   "cell_type": "markdown",
   "metadata": {},
   "source": [
    "And you can assign specific indexes."
   ]
  },
  {
   "cell_type": "code",
   "execution_count": 14,
   "metadata": {},
   "outputs": [
    {
     "name": "stdout",
     "output_type": "stream",
     "text": [
      "[0, 1, \"wasn't here before\", 3, 'four', 'five', 6.0, True, 'a new element']\n"
     ]
    }
   ],
   "source": [
    "ls[2] = \"wasn't here before\"\n",
    "\n",
    "print(ls)"
   ]
  },
  {
   "cell_type": "markdown",
   "metadata": {},
   "source": [
    "#### Tuples\n",
    "\n",
    "Used for storing an _immutable_ list of things."
   ]
  },
  {
   "cell_type": "code",
   "execution_count": 15,
   "metadata": {
    "scrolled": true
   },
   "outputs": [
    {
     "name": "stdout",
     "output_type": "stream",
     "text": [
      "('one', 2, 3.0)\n"
     ]
    }
   ],
   "source": [
    "tpl = (\"one\", 2, 3.0)\n",
    "\n",
    "print(tpl)"
   ]
  },
  {
   "cell_type": "markdown",
   "metadata": {},
   "source": [
    "Tuples can be accessed like lists."
   ]
  },
  {
   "cell_type": "code",
   "execution_count": 16,
   "metadata": {},
   "outputs": [
    {
     "name": "stdout",
     "output_type": "stream",
     "text": [
      "3.0\n",
      "('one', 2)\n"
     ]
    }
   ],
   "source": [
    "print(tpl[2])\n",
    "print(tpl[0:2])"
   ]
  },
  {
   "cell_type": "markdown",
   "metadata": {},
   "source": [
    "But you cannot add or change anything about them."
   ]
  },
  {
   "cell_type": "code",
   "execution_count": 17,
   "metadata": {},
   "outputs": [
    {
     "ename": "TypeError",
     "evalue": "'tuple' object does not support item assignment",
     "output_type": "error",
     "traceback": [
      "\u001b[0;31m---------------------------------------------------------------------------\u001b[0m",
      "\u001b[0;31mTypeError\u001b[0m                                 Traceback (most recent call last)",
      "\u001b[0;32m<ipython-input-17-9aa8bf5af59a>\u001b[0m in \u001b[0;36m<module>\u001b[0;34m\u001b[0m\n\u001b[0;32m----> 1\u001b[0;31m \u001b[0mtpl\u001b[0m\u001b[0;34m[\u001b[0m\u001b[0;36m2\u001b[0m\u001b[0;34m]\u001b[0m \u001b[0;34m=\u001b[0m \u001b[0;36m6\u001b[0m\u001b[0;34m\u001b[0m\u001b[0;34m\u001b[0m\u001b[0m\n\u001b[0m",
      "\u001b[0;31mTypeError\u001b[0m: 'tuple' object does not support item assignment"
     ]
    }
   ],
   "source": [
    "tpl[2] = 6"
   ]
  },
  {
   "cell_type": "code",
   "execution_count": 18,
   "metadata": {},
   "outputs": [
    {
     "ename": "AttributeError",
     "evalue": "'tuple' object has no attribute 'append'",
     "output_type": "error",
     "traceback": [
      "\u001b[0;31m---------------------------------------------------------------------------\u001b[0m",
      "\u001b[0;31mAttributeError\u001b[0m                            Traceback (most recent call last)",
      "\u001b[0;32m<ipython-input-18-e49a498cbe77>\u001b[0m in \u001b[0;36m<module>\u001b[0;34m\u001b[0m\n\u001b[0;32m----> 1\u001b[0;31m \u001b[0mtpl\u001b[0m\u001b[0;34m.\u001b[0m\u001b[0mappend\u001b[0m\u001b[0;34m(\u001b[0m\u001b[0;36m6\u001b[0m\u001b[0;34m)\u001b[0m\u001b[0;34m\u001b[0m\u001b[0;34m\u001b[0m\u001b[0m\n\u001b[0m",
      "\u001b[0;31mAttributeError\u001b[0m: 'tuple' object has no attribute 'append'"
     ]
    }
   ],
   "source": [
    "tpl.append(6)"
   ]
  },
  {
   "cell_type": "markdown",
   "metadata": {},
   "source": [
    "#### Dictionaries\n",
    "\n",
    "Dictionaries associate a _key_ with a _value_."
   ]
  },
  {
   "cell_type": "code",
   "execution_count": 19,
   "metadata": {},
   "outputs": [],
   "source": [
    "contacts = {\"John\": \"john@email.com\", \"Andrew\": \"andrew@email.com\", \"Mark\": \"mark@email.com\"}"
   ]
  },
  {
   "cell_type": "code",
   "execution_count": 20,
   "metadata": {},
   "outputs": [
    {
     "name": "stdout",
     "output_type": "stream",
     "text": [
      "andrew@email.com\n"
     ]
    }
   ],
   "source": [
    "print(contacts[\"Andrew\"])"
   ]
  },
  {
   "cell_type": "markdown",
   "metadata": {},
   "source": [
    "You can add new key-value pairs to the dictionary."
   ]
  },
  {
   "cell_type": "code",
   "execution_count": 21,
   "metadata": {},
   "outputs": [
    {
     "name": "stdout",
     "output_type": "stream",
     "text": [
      "{'John': 'john@email.com', 'Andrew': 'andrew@email.com', 'Mark': 'mark@email.com', 'Sara': 'sara@email.com'}\n"
     ]
    }
   ],
   "source": [
    "contacts[\"Sara\"] = \"sara@email.com\"\n",
    "\n",
    "print(contacts)"
   ]
  },
  {
   "cell_type": "markdown",
   "metadata": {},
   "source": [
    "### Basic Math & Comparison"
   ]
  },
  {
   "cell_type": "markdown",
   "metadata": {},
   "source": [
    "#### Basic Arithmetic\n",
    "\n",
    "These basically work how you think they would."
   ]
  },
  {
   "cell_type": "code",
   "execution_count": 22,
   "metadata": {},
   "outputs": [
    {
     "name": "stdout",
     "output_type": "stream",
     "text": [
      "2\n",
      "7\n",
      "20\n",
      "8.75\n",
      "8\n",
      "16\n",
      "\n",
      "44\n",
      "29\n",
      "\n",
      "1\n"
     ]
    }
   ],
   "source": [
    "print(1 + 1)\n",
    "print(8 - 1)\n",
    "print(10 * 2)\n",
    "print(35 / 4) # Divide 'normally'\n",
    "print(35 // 4) # Round down after division\n",
    "print(2 ** 4)\n",
    "print()\n",
    "\n",
    "brackets = (5 + 6) * 4\n",
    "no_brackets = 5 + 6 * 4\n",
    "print(brackets)\n",
    "print(no_brackets)\n",
    "print()\n",
    "\n",
    "mod = 7 % 3 # Divide the two numbers and return the remainder\n",
    "print(mod)"
   ]
  },
  {
   "cell_type": "markdown",
   "metadata": {},
   "source": [
    "#### Comparing Variables\n",
    "\n",
    "This shows how to compare two things."
   ]
  },
  {
   "cell_type": "code",
   "execution_count": 23,
   "metadata": {},
   "outputs": [
    {
     "data": {
      "text/plain": [
       "True"
      ]
     },
     "execution_count": 23,
     "metadata": {},
     "output_type": "execute_result"
    }
   ],
   "source": [
    "True and False  # => False\n",
    "False or True  # => True\n",
    "\n",
    "0 == False  # => True\n",
    "1 == True  # => True\n",
    "\n",
    "not True  # => False\n",
    "not False  # => True\n",
    "\n",
    "# Use == to check equality\n",
    "1 == 1  # => True\n",
    "2 == 1  # => False\n",
    "\n",
    "# Use != to check inequality\n",
    "1 != 1  # => False\n",
    "2 != 1  # => True\n",
    "\n",
    "# More comparisons\n",
    "1 < 10  # => True\n",
    "1 > 10  # => False\n",
    "2 <= 2  # => True\n",
    "2 >= 2  # => True"
   ]
  },
  {
   "cell_type": "markdown",
   "metadata": {},
   "source": [
    "### Loops"
   ]
  },
  {
   "cell_type": "markdown",
   "metadata": {},
   "source": [
    "#### For loop\n",
    "\n",
    "Loop for a certain number of times.\n",
    "\n",
    "Python uses for-in loops."
   ]
  },
  {
   "cell_type": "code",
   "execution_count": 24,
   "metadata": {},
   "outputs": [
    {
     "name": "stdout",
     "output_type": "stream",
     "text": [
      "0\n",
      "1\n",
      "2\n",
      "3\n",
      "4\n",
      "5\n",
      "6\n",
      "7\n",
      "8\n",
      "9\n"
     ]
    }
   ],
   "source": [
    "y = [0, 1, 2, 3, 4, 5, 6, 7, 8, 9]\n",
    "\n",
    "for x in y:\n",
    "    print(x)"
   ]
  },
  {
   "cell_type": "markdown",
   "metadata": {},
   "source": [
    "You can use the _range(n)_ function to generate a list of _n_ numbers."
   ]
  },
  {
   "cell_type": "code",
   "execution_count": 25,
   "metadata": {},
   "outputs": [
    {
     "name": "stdout",
     "output_type": "stream",
     "text": [
      "0\n",
      "1\n",
      "2\n",
      "3\n",
      "4\n"
     ]
    }
   ],
   "source": [
    "for x in range(5):\n",
    "    print(x)"
   ]
  },
  {
   "cell_type": "markdown",
   "metadata": {},
   "source": [
    "#### While loop\n",
    "\n",
    "While loops continue to run while _something_ is true."
   ]
  },
  {
   "cell_type": "code",
   "execution_count": 26,
   "metadata": {},
   "outputs": [
    {
     "name": "stdout",
     "output_type": "stream",
     "text": [
      "4\n",
      "3\n",
      "2\n",
      "1\n",
      "0\n",
      "\n",
      "0\n"
     ]
    }
   ],
   "source": [
    "x = 5\n",
    "while(x > 0): # Keep looping while x is greater than 0\n",
    "    x = x - 1\n",
    "    print(x)\n",
    "\n",
    "print()\n",
    "print(x)"
   ]
  },
  {
   "cell_type": "markdown",
   "metadata": {},
   "source": [
    "### Control Flow\n",
    "\n",
    "Control flow decides what code runs depending on the state of the program."
   ]
  },
  {
   "cell_type": "code",
   "execution_count": 27,
   "metadata": {},
   "outputs": [
    {
     "name": "stdout",
     "output_type": "stream",
     "text": [
      "YES!\n"
     ]
    }
   ],
   "source": [
    "x = 5 # Change this to a value greater than 3, less than 3, and equal to three and see how the output changes\n",
    "\n",
    "if x > 3:\n",
    "    print(\"YES!\")\n",
    "elif x < 3:\n",
    "    print(\"NO!!\")\n",
    "else:\n",
    "    print(\"X is 3\")"
   ]
  },
  {
   "cell_type": "markdown",
   "metadata": {},
   "source": [
    "### Functions\n",
    "\n",
    "Functions enable you to write reusable pieces of code."
   ]
  },
  {
   "cell_type": "code",
   "execution_count": 28,
   "metadata": {},
   "outputs": [],
   "source": [
    "def power(x, n):\n",
    "    \"\"\" Calculate 'x' to the power of 'n'. \"\"\"\n",
    "    result = 1\n",
    "    for i in range(n):\n",
    "        result = result * x\n",
    "        \n",
    "    return result"
   ]
  },
  {
   "cell_type": "code",
   "execution_count": 29,
   "metadata": {},
   "outputs": [
    {
     "name": "stdout",
     "output_type": "stream",
     "text": [
      "16\n",
      "125\n"
     ]
    }
   ],
   "source": [
    "print(power(2, 4)) # You can specify parameters positionally\n",
    "print(power(x=5, n=3)) # or specify them by name"
   ]
  },
  {
   "cell_type": "markdown",
   "metadata": {},
   "source": [
    "#### Built-in function"
   ]
  },
  {
   "cell_type": "code",
   "execution_count": 30,
   "metadata": {},
   "outputs": [
    {
     "name": "stdout",
     "output_type": "stream",
     "text": [
      "5\n",
      "8\n",
      "test\n",
      "1\n",
      "[0, 1, 2, 3, 4]\n"
     ]
    }
   ],
   "source": [
    "print(len(\"Hello\")) # len() is used to get the length of something\n",
    "print(len([1, 2, 3, 4, 5, 6, 7, 8]))\n",
    "\n",
    "print(\"test\") # Print is a built in function used for showing output\n",
    "\n",
    "print(str(1)) # str() creates a string from an object\n",
    "\n",
    "print(list(range(5))) # list() creates a list from an iterator"
   ]
  },
  {
   "cell_type": "markdown",
   "metadata": {},
   "source": [
    "### Modules, Packages, and Libraries"
   ]
  },
  {
   "cell_type": "markdown",
   "metadata": {},
   "source": [
    "#### What is a module and what is a package?\n",
    "\n",
    "A **module** is a file that contains Python code (_usually functions_). This allows you to code that you can use in more than one place, in more than one project, for more than one reason.\n",
    "\n",
    "A **package** is a collection of these files. Packages put modules together in a conventient."
   ]
  },
  {
   "cell_type": "code",
   "execution_count": 31,
   "metadata": {},
   "outputs": [],
   "source": [
    "# Import that module here\n",
    "import my_module"
   ]
  },
  {
   "cell_type": "code",
   "execution_count": 32,
   "metadata": {},
   "outputs": [
    {
     "name": "stdout",
     "output_type": "stream",
     "text": [
      "16\n"
     ]
    }
   ],
   "source": [
    "# Call the power function we wrote\n",
    "print(my_module.power(2, 4))"
   ]
  },
  {
   "cell_type": "code",
   "execution_count": 33,
   "metadata": {},
   "outputs": [],
   "source": [
    "import my_package.my_module"
   ]
  },
  {
   "cell_type": "code",
   "execution_count": 34,
   "metadata": {},
   "outputs": [
    {
     "name": "stdout",
     "output_type": "stream",
     "text": [
      "16\n"
     ]
    }
   ],
   "source": [
    "# Call the power function we wrote\n",
    "print(my_package.my_module.power(2, 4))"
   ]
  },
  {
   "cell_type": "code",
   "execution_count": 35,
   "metadata": {},
   "outputs": [],
   "source": [
    "from my_package import my_module as my_mod"
   ]
  },
  {
   "cell_type": "code",
   "execution_count": 36,
   "metadata": {},
   "outputs": [
    {
     "name": "stdout",
     "output_type": "stream",
     "text": [
      "16\n"
     ]
    }
   ],
   "source": [
    "# Call the power function we wrote\n",
    "print(my_mod.power(2, 4))"
   ]
  },
  {
   "cell_type": "markdown",
   "metadata": {},
   "source": [
    "#### Installing packages\n",
    "\n",
    "Packages in Python can be installed using **pip** (a recursive acronym \"Pip installs Python\"), which is a package manager for Python."
   ]
  },
  {
   "cell_type": "code",
   "execution_count": 37,
   "metadata": {},
   "outputs": [
    {
     "name": "stdout",
     "output_type": "stream",
     "text": [
      "Requirement already satisfied: xgboost in /home/jason/projects/WFN/Machine-Learning-Stock-Prediction/env/lib/python3.6/site-packages (0.80)\n",
      "Requirement already satisfied: numpy in /home/jason/projects/WFN/Machine-Learning-Stock-Prediction/env/lib/python3.6/site-packages (from xgboost) (1.15.3)\n",
      "Requirement already satisfied: scipy in /home/jason/projects/WFN/Machine-Learning-Stock-Prediction/env/lib/python3.6/site-packages (from xgboost) (1.1.0)\n",
      "Requirement already satisfied: sklearn in /home/jason/projects/WFN/Machine-Learning-Stock-Prediction/env/lib/python3.6/site-packages (0.0)\n",
      "Requirement already satisfied: scikit-learn in /home/jason/projects/WFN/Machine-Learning-Stock-Prediction/env/lib/python3.6/site-packages (from sklearn) (0.20.0)\n",
      "Requirement already satisfied: numpy>=1.8.2 in /home/jason/projects/WFN/Machine-Learning-Stock-Prediction/env/lib/python3.6/site-packages (from scikit-learn->sklearn) (1.15.3)\n",
      "Requirement already satisfied: scipy>=0.13.3 in /home/jason/projects/WFN/Machine-Learning-Stock-Prediction/env/lib/python3.6/site-packages (from scikit-learn->sklearn) (1.1.0)\n",
      "Requirement already satisfied: pandas in /home/jason/projects/WFN/Machine-Learning-Stock-Prediction/env/lib/python3.6/site-packages (0.23.4)\n",
      "Requirement already satisfied: pytz>=2011k in /home/jason/projects/WFN/Machine-Learning-Stock-Prediction/env/lib/python3.6/site-packages (from pandas) (2018.5)\n",
      "Requirement already satisfied: numpy>=1.9.0 in /home/jason/projects/WFN/Machine-Learning-Stock-Prediction/env/lib/python3.6/site-packages (from pandas) (1.15.3)\n",
      "Requirement already satisfied: python-dateutil>=2.5.0 in /home/jason/projects/WFN/Machine-Learning-Stock-Prediction/env/lib/python3.6/site-packages (from pandas) (2.7.3)\n",
      "Requirement already satisfied: six>=1.5 in /home/jason/projects/WFN/Machine-Learning-Stock-Prediction/env/lib/python3.6/site-packages (from python-dateutil>=2.5.0->pandas) (1.11.0)\n",
      "Requirement already satisfied: numpy in /home/jason/projects/WFN/Machine-Learning-Stock-Prediction/env/lib/python3.6/site-packages (1.15.3)\n"
     ]
    }
   ],
   "source": [
    "# You can use the following to install the packages we need\n",
    "!pip install xgboost\n",
    "!pip install sklearn\n",
    "!pip install pandas\n",
    "!pip install numpy"
   ]
  }
 ],
 "metadata": {
  "kernelspec": {
   "display_name": "Python 3",
   "language": "python",
   "name": "python3"
  },
  "language_info": {
   "codemirror_mode": {
    "name": "ipython",
    "version": 3
   },
   "file_extension": ".py",
   "mimetype": "text/x-python",
   "name": "python",
   "nbconvert_exporter": "python",
   "pygments_lexer": "ipython3",
   "version": "3.6.6+"
  }
 },
 "nbformat": 4,
 "nbformat_minor": 2
}
